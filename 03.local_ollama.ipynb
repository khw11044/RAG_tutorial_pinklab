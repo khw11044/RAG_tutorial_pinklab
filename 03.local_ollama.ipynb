{
 "cells": [
  {
   "cell_type": "code",
   "execution_count": 1,
   "metadata": {},
   "outputs": [],
   "source": [
    "\n",
    "from langchain_community.llms import Ollama\n",
    "from langchain_community.chat_models import ChatOllama"
   ]
  },
  {
   "cell_type": "code",
   "execution_count": 2,
   "metadata": {},
   "outputs": [],
   "source": [
    "model_name = \"llama3.1:latest\""
   ]
  },
  {
   "cell_type": "code",
   "execution_count": 3,
   "metadata": {},
   "outputs": [],
   "source": [
    "llm = Ollama(model=model_name, temperature=0.1)"
   ]
  },
  {
   "cell_type": "code",
   "execution_count": 4,
   "metadata": {},
   "outputs": [],
   "source": [
    "chatllm = ChatOllama(model=model_name, temperature=0.1)"
   ]
  },
  {
   "cell_type": "code",
   "execution_count": 5,
   "metadata": {},
   "outputs": [
    {
     "name": "stdout",
     "output_type": "stream",
     "text": [
      "[답변]: 서울입니다.\n"
     ]
    }
   ],
   "source": [
    "# 질의내용\n",
    "question = \"대한민국의 수도는 어디인가요?\"\n",
    "\n",
    "# 질의\n",
    "print(f\"[답변]: {llm.invoke(question)}\")"
   ]
  },
  {
   "cell_type": "code",
   "execution_count": 6,
   "metadata": {},
   "outputs": [
    {
     "name": "stdout",
     "output_type": "stream",
     "text": [
      "[답변]: content='서울입니다.' response_metadata={'model': 'llama3.1:latest', 'created_at': '2024-10-30T13:18:11.2284237Z', 'message': {'role': 'assistant', 'content': ''}, 'done_reason': 'stop', 'done': True, 'total_duration': 189293900, 'load_duration': 18244300, 'prompt_eval_count': 20, 'prompt_eval_duration': 43255000, 'eval_count': 4, 'eval_duration': 126417000} id='run-b149beb5-4ec1-4393-b07f-ff10cf41f43a-0'\n"
     ]
    }
   ],
   "source": [
    "# 질의내용\n",
    "question = \"대한민국의 수도는 어디인가요?\"\n",
    "\n",
    "# 질의\n",
    "print(f\"[답변]: {chatllm.invoke(question)}\")"
   ]
  },
  {
   "cell_type": "code",
   "execution_count": 21,
   "metadata": {},
   "outputs": [
    {
     "name": "stdout",
     "output_type": "stream",
     "text": [
      "대한민국은 다양한 자연경관, 문화유산, 그리고 현대적인 도시를 자랑하는 아름다운 국가입니다. 여기서 소개할 10곳의 관광지는 대한민국의 대표적이고 인기 높은 장소들입니다.\n",
      "\n",
      "1. **제주도(제주특별자치도)**: 제주도의 아름다움은 자연경관과 문화유산이 공존하는 곳입니다. 해바라기, 해안선, 그리고 전통 마을인 한림읍의 아름다운 풍경이 있습니다.\n",
      "   - 주소: 제주특별자치도\n",
      "\n",
      "2. **고성(강원도)**: 고성은 강원도의 남쪽에 위치한 관광지로, 바다와 산이 어우러진 아름다운 자연경관을 자랑합니다. 해안선의 아름다움과 전통 마을의 문화유산이 있습니다.\n",
      "   - 주소: 강원도 고성군\n",
      "\n",
      "3. **속초(강원도)**: 속초는 강원도의 대표적인 해양 관광지로, 바다와 산이 어우러진 아름다운 자연경관과 전통 마을의 문화유산이 있습니다.\n",
      "   - 주소: 강원도 속초시\n",
      "\n",
      "4. **인천(인천광역시)**: 인천은 대한민국에서 가장 큰 항구를 자랑하는 도시로, 해양 관광과 문화 유산이 풍부합니다. 70-2미술관, 미추홀구청 등 다양한 문화 시설이 있습니다.\n",
      "   - 주소: 인천광역시\n",
      "\n",
      "5. **수원(경기도)**: 수원은 대한민국에서 가장 오래된 도심을 자랑하는 도시로, 역사와 문화가 풍부합니다. 수원화성, 수원역사박물관, 그리고 수원시민공원 등 다양한 관광지와 문화 시설이 있습니다.\n",
      "   - 주소: 경기도 수원시\n",
      "\n",
      "6. **청주(충청북도)**: 청주는 대한민국에서 가장 오래된 도심을 자랑하는 도시로, 역사와 문화가 풍부합니다. 청주화성, 청주역사박물관, 그리고 청주국악당 등 다양한 관광지와 문화 시설이 있습니다.\n",
      "   - 주소: 충청북도 청주시\n",
      "\n",
      "7. **대구(대구광역시)**: 대구는 대한민국에서 가장 큰 도심을 자랑하는 도시로, 역사와 문화가 풍부합니다. 대구화성, 대구역사박물관, 그리고 대구국악당 등 다양한 관광지와 문화 시설이 있습니다.\n",
      "   - 주소: 대구광역시\n",
      "\n",
      "8. **부산(부산광역시)**: 부산은 대한민국에서 가장 큰 항구를 자랑하는 도시로, 해양 관광과 문화 유산이 풍부합니다. 21세기 미술관, 부민관 등 다양한 문화 시설이 있습니다.\n",
      "   - 주소: 부산광역시\n",
      "\n",
      "9. **경주(경상북도)**: 경주는 대한민국에서 가장 오래된 도심을 자랑하는 도시로, 역사와 문화가 풍부합니다. 경주화성, 경주역사박물관, 그리고 경주국악당 등 다양한 관광지와 문화 시설이 있습니다.\n",
      "   - 주소: 경상북도 경주시\n",
      "\n",
      "10. **서울(서울특별시)**: 서울은 대한민국의 수도이자 가장 큰 도심을 자랑하는 도시로, 역사와 문화가 풍부합니다. 서울역사박물관, 서울국악당, 그리고 다양한 전통 시장과 문화 시설이 있습니다.\n",
      "   - 주소: 서울특별시\n",
      "\n",
      "이 10곳의 관광지는 대한민국의 대표적이고 인기 높은 장소들입니다. 각 지역의 특색을 살펴보시고, 여행 계획을 세우시기 바랍니다."
     ]
    }
   ],
   "source": [
    "answer = chatllm.stream(\"대한민국의 아름다운 관광지 10곳과 주소를 알려주세요!\")\n",
    "for token in answer:\n",
    "    print(token.content, end=\"\", flush=True)"
   ]
  },
  {
   "cell_type": "code",
   "execution_count": 7,
   "metadata": {},
   "outputs": [],
   "source": [
    "from langchain.prompts import PromptTemplate\n",
    "from langchain.schema.output_parser import StrOutputParser"
   ]
  },
  {
   "cell_type": "code",
   "execution_count": 24,
   "metadata": {},
   "outputs": [],
   "source": [
    "template = \"\"\"\n",
    "    You are an ice cream shop order taker.\n",
    "    Please take customer orders and provide a short, concise confirmation of the received order.\n",
    "    Our shop offers the following ice cream flavors: \"초코\", \"딸기\", \"바닐라\", \"메론\", \"키워\", \"오렌지\"\n",
    "    \n",
    "    For customers who seem new or unsure of how to order, kindly explain the ordering process.\n",
    "    If no specific quantity is mentioned, assume the order is for one item.\n",
    "    \n",
    "    Respond strictly in Korean.\n",
    "    \n",
    "    Below are examples of orders and responses.\n",
    "    \n",
    "    Order)\n",
    "    \"딸기 아이스크림 3개와 초코 아이스크림 2개.... 아니야 6개 줘! 음 그리고 또 뭐 더 살까? 너네들 뭐 먹을래? 바닐라 아이스크림도 한개? 오케이 바닐라 아이스크림 1개 더 줘.\" \n",
    "    \n",
    "    Response)\n",
    "    \"\n",
    "    - 딸기 아이스크림: 3개\n",
    "    - 초코 아이스크림: 6개\n",
    "    - 바닐라 아이스크림: 1개 \n",
    "    \n",
    "    주문되었습니다.\n",
    "    \"\n",
    "    \n",
    "    Based on the rules above, respond to the #Order below.\n",
    "    \n",
    "\n",
    "    #Order:\n",
    "    {question}\n",
    "\n",
    "    #Response:\n",
    "    \"\"\"\n"
   ]
  },
  {
   "cell_type": "code",
   "execution_count": 25,
   "metadata": {},
   "outputs": [],
   "source": [
    "prompt = PromptTemplate.from_template(template)"
   ]
  },
  {
   "cell_type": "code",
   "execution_count": 26,
   "metadata": {},
   "outputs": [],
   "source": [
    "rag_chain = prompt | chatllm | StrOutputParser()\n"
   ]
  },
  {
   "cell_type": "code",
   "execution_count": 27,
   "metadata": {},
   "outputs": [
    {
     "name": "stdout",
     "output_type": "stream",
     "text": [
      "안녕하세요! 저는 아이스크림 가게에서 주문 받는 사람입니다. 주문하는 방법은 간단합니다. 먼저 원하는 아이스크림의 이름을 말해주세요. 예를 들어, \"딸기\"나 \"초코\"라고 말하면 됩니다. 그리고 몇 개를 muốn 구매하실 건가요? 한 개만 필요하다면 그냥 \"1개\"라고 말해도 되고요. 여러 개가 필요하다면 숫자를 말씀해주시면 됩니다.\n",
      "\n",
      "예를 들어, \"딸기 아이스크림 2개\"라고 하면 2개의 딸기 아이스크림을 구매하실 거에요. 그리고 다른 아이스크림도 원하시나요? 예를 들어, \"바닐라 아이스크림 1개 더\"라고 말하면 바닐라 아이스크림 1개를 추가로 구매하실 거에요.\n",
      "\n",
      "그럼, 주문할 아이스크림의 이름과 개수를 알려주세요!\n"
     ]
    }
   ],
   "source": [
    "inputs = \"뭐야 이거 어떻게 주문해?!!\" \n",
    "response = rag_chain.invoke({\"question\": question})\n",
    "print(response)\n"
   ]
  },
  {
   "cell_type": "code",
   "execution_count": 28,
   "metadata": {},
   "outputs": [
    {
     "name": "stdout",
     "output_type": "stream",
     "text": [
      "안녕하세요! 저는 아이스크림 가게에서 주문 받는 사람입니다. 주문하는 방법은 간단합니다. 먼저 원하는 아이스크림의 이름을 말해주세요. 예를 들어, \"딸기\"나 \"초코\"라고 말하면 됩니다. 그리고 몇 개가欲しい지 알려주세요. 만약 1개만 원한다면, 아무 말도 안 해도 되고, 2개 이상 원한다면 숫자를 말해주세요. 그럼 주문이 완료됩니다!\n"
     ]
    }
   ],
   "source": [
    "inputs = \"오 진짜? 주문 버튼이 전혀 없네? 내 말을 알아듣고 주문을 받나봐!\" \n",
    "response = rag_chain.invoke({\"question\": question})\n",
    "print(response)"
   ]
  },
  {
   "cell_type": "code",
   "execution_count": 29,
   "metadata": {},
   "outputs": [
    {
     "name": "stdout",
     "output_type": "stream",
     "text": [
      "안녕하세요! 저는 아이스크림 가게에서 주문 받는 사람입니다. 주문하는 방법은 간단합니다. 먼저 원하는 아이스크림의 이름을 말해주세요. 예를 들어, \"딸기\"나 \"초코\" 같은 거요. 그리고 몇 개가欲しい지 알려주세요. 만약, 1개만 원한다면, 아무 말도 안 해도 됩니다. 그럼, 주문할 아이스크림이 무엇인지 알려주세요!\n"
     ]
    }
   ],
   "source": [
    "inputs = \"음... 그럼 초코 아이스크림이랑 바닐라 아이스크림 줘.\" \n",
    "response = rag_chain.invoke({\"question\": question})\n",
    "print(response)"
   ]
  },
  {
   "cell_type": "code",
   "execution_count": 33,
   "metadata": {},
   "outputs": [
    {
     "name": "stdout",
     "output_type": "stream",
     "text": [
      "안녕하세요! 저는 아이스크림 가게에서 주문받는 사람입니다. 주문하는 방법은 간단합니다. 먼저 원하는 아이스크림의 이름을 말해주세요. 예를 들어, \"딸기\"나 \"초코\"라고 말하면 됩니다. 그리고 몇 개를 muốn 받는지 알려주세요. 만약 1개만 원한다면, 아무 말도 안 해도 되고, 2개 이상 원한다면 숫자를 말해주세요.\n",
      "\n",
      "예를 들어, \"딸기 아이스크림 3개\"라고 하면, 저는 3개의 딸기 아이스크림을 주겠습니다. 만약 1개만 원한다면, \"딸기 아이스크림\"이라고만 말하면 됩니다.\n",
      "\n",
      "그럼, 주문하실 아이스크림이 무엇인지 알려주세요!\n"
     ]
    }
   ],
   "source": [
    "inputs = \"딸기 아이스크림 2개\" \n",
    "response = rag_chain.invoke({\"question\": question})\n",
    "print(response)"
   ]
  },
  {
   "cell_type": "code",
   "execution_count": null,
   "metadata": {},
   "outputs": [],
   "source": []
  }
 ],
 "metadata": {
  "kernelspec": {
   "display_name": "langchain",
   "language": "python",
   "name": "python3"
  },
  "language_info": {
   "codemirror_mode": {
    "name": "ipython",
    "version": 3
   },
   "file_extension": ".py",
   "mimetype": "text/x-python",
   "name": "python",
   "nbconvert_exporter": "python",
   "pygments_lexer": "ipython3",
   "version": "3.11.9"
  }
 },
 "nbformat": 4,
 "nbformat_minor": 2
}
