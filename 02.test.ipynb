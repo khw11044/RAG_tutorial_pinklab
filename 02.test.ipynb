{
 "cells": [
  {
   "cell_type": "code",
   "execution_count": 8,
   "metadata": {},
   "outputs": [],
   "source": [
    "from utils.RAGPIPELINE import RagPipeline"
   ]
  },
  {
   "cell_type": "code",
   "execution_count": 9,
   "metadata": {},
   "outputs": [],
   "source": [
    "rag = RagPipeline()"
   ]
  },
  {
   "cell_type": "code",
   "execution_count": 10,
   "metadata": {},
   "outputs": [],
   "source": [
    "inputs = \"뭐야 이거 어떻게 주문해?!!\" "
   ]
  },
  {
   "cell_type": "code",
   "execution_count": 11,
   "metadata": {},
   "outputs": [],
   "source": [
    "answer = rag.generate_answer(inputs)"
   ]
  },
  {
   "cell_type": "code",
   "execution_count": 12,
   "metadata": {},
   "outputs": [
    {
     "data": {
      "text/plain": [
       "'안녕하세요! 아이스크림을 주문하시려면 원하는 아이스크림 종류를 말씀해 주시면 됩니다. 저희 가게에는 \"초코\", \"딸기\", \"바닐라\", \"메론\", \"키워\", \"오렌지\" 아이스크림이 있습니다. 예를 들어, \"딸기 아이스크림 1개\" 또는 \"초코 아이스크림 2개\"와 같이 말씀해 주시면 됩니다. 어떤 아이스크림을 원하시나요?'"
      ]
     },
     "execution_count": 12,
     "metadata": {},
     "output_type": "execute_result"
    }
   ],
   "source": [
    "answer"
   ]
  },
  {
   "cell_type": "code",
   "execution_count": 13,
   "metadata": {},
   "outputs": [
    {
     "name": "stdout",
     "output_type": "stream",
     "text": [
      "저는 아이스크림 가게 주문 접수원입니다. 아이스크림 주문 관련 질문을 부탁드립니다. \n",
      "\n",
      "주문 방법은 간단합니다! 원하는 아이스크림 종류를 말씀해 주시면 됩니다. 예를 들어, \"초코 아이스크림 1개\" 또는 \"딸기 아이스크림 2개\"와 같이 말씀해 주시면 됩니다. 어떤 아이스크림을 드시고 싶으신가요?\n"
     ]
    }
   ],
   "source": [
    "inputs = \"오 진짜? 주문 버튼이 전혀 없네? 내 말을 알아듣고 주문을 받나봐!\" \n",
    "answer = rag.generate_answer(inputs)\n",
    "print(answer)"
   ]
  },
  {
   "cell_type": "code",
   "execution_count": 14,
   "metadata": {},
   "outputs": [
    {
     "name": "stdout",
     "output_type": "stream",
     "text": [
      "\"\n",
      "- 초코 아이스크림 1개\n",
      "- 바닐라 아이스크림 1개\n",
      "\n",
      "주문되었습니다.\n",
      "\"\n"
     ]
    }
   ],
   "source": [
    "inputs = \"음... 그럼 초코 아이스크림이랑 바닐라 아이스크림 줘.\" \n",
    "answer = rag.generate_answer(inputs)\n",
    "print(answer)"
   ]
  },
  {
   "cell_type": "code",
   "execution_count": 15,
   "metadata": {},
   "outputs": [
    {
     "name": "stdout",
     "output_type": "stream",
     "text": [
      "저는 아이스크림 가게 주문 접수원입니다. 아이스크림 주문 관련 질문을 부탁드립니다.\n"
     ]
    }
   ],
   "source": [
    "inputs = \"아재 개그 하나 해줘.\" \n",
    "answer = rag.generate_answer(inputs)\n",
    "print(answer)"
   ]
  },
  {
   "cell_type": "code",
   "execution_count": null,
   "metadata": {},
   "outputs": [],
   "source": []
  }
 ],
 "metadata": {
  "kernelspec": {
   "display_name": "langchain",
   "language": "python",
   "name": "python3"
  },
  "language_info": {
   "codemirror_mode": {
    "name": "ipython",
    "version": 3
   },
   "file_extension": ".py",
   "mimetype": "text/x-python",
   "name": "python",
   "nbconvert_exporter": "python",
   "pygments_lexer": "ipython3",
   "version": "3.11.9"
  }
 },
 "nbformat": 4,
 "nbformat_minor": 2
}
